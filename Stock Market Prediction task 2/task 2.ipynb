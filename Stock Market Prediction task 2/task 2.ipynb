{
 "cells": [
  {
   "cell_type": "code",
   "execution_count": 10,
   "id": "eed2f575",
   "metadata": {},
   "outputs": [],
   "source": [
    "import pandas as pd\n",
    "import numpy as np\n",
    "import math\n",
    "import matplotlib.pyplot as plt\n",
    "from sklearn.preprocessing import MinMaxScaler\n",
    "from sklearn.metrics import mean_squared_error\n",
    "import tensorflow as tf\n",
    "from tensorflow.python.keras.models import Sequential\n",
    "from tensorflow.python.keras.layers import Dense\n",
    "from tensorflow.python.keras.layers import LSTM\n",
    "%matplotlib inline"
   ]
  },
  {
   "cell_type": "code",
   "execution_count": 11,
   "id": "bf235b4b",
   "metadata": {},
   "outputs": [
    {
     "data": {
      "text/plain": [
       "'2.8.0'"
      ]
     },
     "execution_count": 11,
     "metadata": {},
     "output_type": "execute_result"
    }
   ],
   "source": [
    "tf.__version__"
   ]
  },
  {
   "cell_type": "code",
   "execution_count": 12,
   "id": "463e1264",
   "metadata": {},
   "outputs": [
    {
     "data": {
      "text/html": [
       "<div>\n",
       "<style scoped>\n",
       "    .dataframe tbody tr th:only-of-type {\n",
       "        vertical-align: middle;\n",
       "    }\n",
       "\n",
       "    .dataframe tbody tr th {\n",
       "        vertical-align: top;\n",
       "    }\n",
       "\n",
       "    .dataframe thead th {\n",
       "        text-align: right;\n",
       "    }\n",
       "</style>\n",
       "<table border=\"1\" class=\"dataframe\">\n",
       "  <thead>\n",
       "    <tr style=\"text-align: right;\">\n",
       "      <th></th>\n",
       "      <th>Date</th>\n",
       "      <th>Open</th>\n",
       "      <th>High</th>\n",
       "      <th>Low</th>\n",
       "      <th>Last</th>\n",
       "      <th>Close</th>\n",
       "      <th>Total Trade Quantity</th>\n",
       "      <th>Turnover (Lacs)</th>\n",
       "    </tr>\n",
       "  </thead>\n",
       "  <tbody>\n",
       "    <tr>\n",
       "      <th>2034</th>\n",
       "      <td>2010-07-21</td>\n",
       "      <td>122.1</td>\n",
       "      <td>123.00</td>\n",
       "      <td>121.05</td>\n",
       "      <td>121.10</td>\n",
       "      <td>121.55</td>\n",
       "      <td>658666</td>\n",
       "      <td>803.56</td>\n",
       "    </tr>\n",
       "    <tr>\n",
       "      <th>2033</th>\n",
       "      <td>2010-07-22</td>\n",
       "      <td>120.3</td>\n",
       "      <td>122.00</td>\n",
       "      <td>120.25</td>\n",
       "      <td>120.75</td>\n",
       "      <td>120.90</td>\n",
       "      <td>293312</td>\n",
       "      <td>355.17</td>\n",
       "    </tr>\n",
       "    <tr>\n",
       "      <th>2032</th>\n",
       "      <td>2010-07-23</td>\n",
       "      <td>121.8</td>\n",
       "      <td>121.95</td>\n",
       "      <td>120.25</td>\n",
       "      <td>120.35</td>\n",
       "      <td>120.65</td>\n",
       "      <td>281312</td>\n",
       "      <td>340.31</td>\n",
       "    </tr>\n",
       "    <tr>\n",
       "      <th>2031</th>\n",
       "      <td>2010-07-26</td>\n",
       "      <td>120.1</td>\n",
       "      <td>121.00</td>\n",
       "      <td>117.10</td>\n",
       "      <td>117.10</td>\n",
       "      <td>117.60</td>\n",
       "      <td>658440</td>\n",
       "      <td>780.01</td>\n",
       "    </tr>\n",
       "    <tr>\n",
       "      <th>2030</th>\n",
       "      <td>2010-07-27</td>\n",
       "      <td>117.6</td>\n",
       "      <td>119.50</td>\n",
       "      <td>112.00</td>\n",
       "      <td>118.80</td>\n",
       "      <td>118.65</td>\n",
       "      <td>586100</td>\n",
       "      <td>694.98</td>\n",
       "    </tr>\n",
       "  </tbody>\n",
       "</table>\n",
       "</div>"
      ],
      "text/plain": [
       "            Date   Open    High     Low    Last   Close  Total Trade Quantity  \\\n",
       "2034  2010-07-21  122.1  123.00  121.05  121.10  121.55                658666   \n",
       "2033  2010-07-22  120.3  122.00  120.25  120.75  120.90                293312   \n",
       "2032  2010-07-23  121.8  121.95  120.25  120.35  120.65                281312   \n",
       "2031  2010-07-26  120.1  121.00  117.10  117.10  117.60                658440   \n",
       "2030  2010-07-27  117.6  119.50  112.00  118.80  118.65                586100   \n",
       "\n",
       "      Turnover (Lacs)  \n",
       "2034           803.56  \n",
       "2033           355.17  \n",
       "2032           340.31  \n",
       "2031           780.01  \n",
       "2030           694.98  "
      ]
     },
     "execution_count": 12,
     "metadata": {},
     "output_type": "execute_result"
    }
   ],
   "source": [
    "defn = pd.read_csv('https://raw.githubusercontent.com/mwitiderrick/stockprice/master/NSE-TATAGLOBAL.csv')\n",
    "defn=defn. iloc[::-1]\n",
    "defn.head()"
   ]
  },
  {
   "cell_type": "code",
   "execution_count": 13,
   "id": "7e5331fd",
   "metadata": {},
   "outputs": [
    {
     "data": {
      "text/html": [
       "<div>\n",
       "<style scoped>\n",
       "    .dataframe tbody tr th:only-of-type {\n",
       "        vertical-align: middle;\n",
       "    }\n",
       "\n",
       "    .dataframe tbody tr th {\n",
       "        vertical-align: top;\n",
       "    }\n",
       "\n",
       "    .dataframe thead th {\n",
       "        text-align: right;\n",
       "    }\n",
       "</style>\n",
       "<table border=\"1\" class=\"dataframe\">\n",
       "  <thead>\n",
       "    <tr style=\"text-align: right;\">\n",
       "      <th></th>\n",
       "      <th>Date</th>\n",
       "      <th>Open</th>\n",
       "      <th>High</th>\n",
       "      <th>Low</th>\n",
       "      <th>Last</th>\n",
       "      <th>Close</th>\n",
       "      <th>Total Trade Quantity</th>\n",
       "      <th>Turnover (Lacs)</th>\n",
       "    </tr>\n",
       "  </thead>\n",
       "  <tbody>\n",
       "    <tr>\n",
       "      <th>4</th>\n",
       "      <td>2018-09-24</td>\n",
       "      <td>233.55</td>\n",
       "      <td>239.20</td>\n",
       "      <td>230.75</td>\n",
       "      <td>234.00</td>\n",
       "      <td>233.30</td>\n",
       "      <td>3423509</td>\n",
       "      <td>7999.55</td>\n",
       "    </tr>\n",
       "    <tr>\n",
       "      <th>3</th>\n",
       "      <td>2018-09-25</td>\n",
       "      <td>233.30</td>\n",
       "      <td>236.75</td>\n",
       "      <td>232.00</td>\n",
       "      <td>236.25</td>\n",
       "      <td>236.10</td>\n",
       "      <td>2349368</td>\n",
       "      <td>5503.90</td>\n",
       "    </tr>\n",
       "    <tr>\n",
       "      <th>2</th>\n",
       "      <td>2018-09-26</td>\n",
       "      <td>240.00</td>\n",
       "      <td>240.00</td>\n",
       "      <td>232.50</td>\n",
       "      <td>235.00</td>\n",
       "      <td>234.25</td>\n",
       "      <td>2240909</td>\n",
       "      <td>5248.60</td>\n",
       "    </tr>\n",
       "    <tr>\n",
       "      <th>1</th>\n",
       "      <td>2018-09-27</td>\n",
       "      <td>234.55</td>\n",
       "      <td>236.80</td>\n",
       "      <td>231.10</td>\n",
       "      <td>233.80</td>\n",
       "      <td>233.25</td>\n",
       "      <td>5082859</td>\n",
       "      <td>11859.95</td>\n",
       "    </tr>\n",
       "    <tr>\n",
       "      <th>0</th>\n",
       "      <td>2018-09-28</td>\n",
       "      <td>234.05</td>\n",
       "      <td>235.95</td>\n",
       "      <td>230.20</td>\n",
       "      <td>233.50</td>\n",
       "      <td>233.75</td>\n",
       "      <td>3069914</td>\n",
       "      <td>7162.35</td>\n",
       "    </tr>\n",
       "  </tbody>\n",
       "</table>\n",
       "</div>"
      ],
      "text/plain": [
       "         Date    Open    High     Low    Last   Close  Total Trade Quantity  \\\n",
       "4  2018-09-24  233.55  239.20  230.75  234.00  233.30               3423509   \n",
       "3  2018-09-25  233.30  236.75  232.00  236.25  236.10               2349368   \n",
       "2  2018-09-26  240.00  240.00  232.50  235.00  234.25               2240909   \n",
       "1  2018-09-27  234.55  236.80  231.10  233.80  233.25               5082859   \n",
       "0  2018-09-28  234.05  235.95  230.20  233.50  233.75               3069914   \n",
       "\n",
       "   Turnover (Lacs)  \n",
       "4          7999.55  \n",
       "3          5503.90  \n",
       "2          5248.60  \n",
       "1         11859.95  \n",
       "0          7162.35  "
      ]
     },
     "execution_count": 13,
     "metadata": {},
     "output_type": "execute_result"
    }
   ],
   "source": [
    "defn.tail()"
   ]
  },
  {
   "cell_type": "code",
   "execution_count": 14,
   "id": "a5c67174",
   "metadata": {},
   "outputs": [
    {
     "data": {
      "text/plain": [
       "Date                    0\n",
       "Open                    0\n",
       "High                    0\n",
       "Low                     0\n",
       "Last                    0\n",
       "Close                   0\n",
       "Total Trade Quantity    0\n",
       "Turnover (Lacs)         0\n",
       "dtype: int64"
      ]
     },
     "execution_count": 14,
     "metadata": {},
     "output_type": "execute_result"
    }
   ],
   "source": [
    "defn.isnull().sum()"
   ]
  },
  {
   "cell_type": "code",
   "execution_count": 15,
   "id": "339c75aa",
   "metadata": {},
   "outputs": [
    {
     "data": {
      "text/plain": [
       "(2035, 8)"
      ]
     },
     "execution_count": 15,
     "metadata": {},
     "output_type": "execute_result"
    }
   ],
   "source": [
    "defn.shape"
   ]
  },
  {
   "cell_type": "code",
   "execution_count": 16,
   "id": "7636c215",
   "metadata": {},
   "outputs": [
    {
     "data": {
      "text/plain": [
       "[<matplotlib.lines.Line2D at 0x1e93c467eb0>]"
      ]
     },
     "execution_count": 16,
     "metadata": {},
     "output_type": "execute_result"
    },
    {
     "data": {
      "image/png": "[encoded data removed]",
      "text/plain": [
       "<Figure size 432x288 with 1 Axes>"
      ]
     },
     "metadata": {
      "needs_background": "light"
     },
     "output_type": "display_data"
    }
   ],
   "source": [
    "defn_high=defn.reset_index()['High']\n",
    "plt.plot(defn_high)"
   ]
  },
  {
   "cell_type": "code",
   "execution_count": 17,
   "id": "43c702d2",
   "metadata": {},
   "outputs": [],
   "source": [
    "sclr = MinMaxScaler(feature_range = (0,1))\n",
    "defn_high = sclr.fit_transform(np.array(defn_high).reshape(-1,1))"
   ]
  },
  {
   "cell_type": "code",
   "execution_count": 18,
   "id": "fb87112c",
   "metadata": {},
   "outputs": [
    {
     "data": {
      "text/plain": [
       "(2035, 1)"
      ]
     },
     "execution_count": 18,
     "metadata": {},
     "output_type": "execute_result"
    }
   ],
   "source": [
    "defn_high.shape"
   ]
  },
  {
   "cell_type": "code",
   "execution_count": 19,
   "id": "1e4fd213",
   "metadata": {},
   "outputs": [
    {
     "data": {
      "text/plain": [
       "array([[0.16344786],\n",
       "       [0.15938199],\n",
       "       [0.15917869],\n",
       "       ...,\n",
       "       [0.6391543 ],\n",
       "       [0.62614353],\n",
       "       [0.62268754]])"
      ]
     },
     "execution_count": 19,
     "metadata": {},
     "output_type": "execute_result"
    }
   ],
   "source": [
    "defn_high"
   ]
  },
  {
   "cell_type": "code",
   "execution_count": 20,
   "id": "f9641c43",
   "metadata": {},
   "outputs": [],
   "source": [
    "trainsz = int(len(defn_high) * 0.75)\n",
    "testsz = len(defn_high) - trainsz\n",
    "traindata, testdata = defn_high[0:trainsz,:], defn_high[trainsz:len(defn_high),:1]"
   ]
  },
  {
   "cell_type": "code",
   "execution_count": 21,
   "id": "9869b730",
   "metadata": {},
   "outputs": [
    {
     "data": {
      "text/plain": [
       "(1526, 509)"
      ]
     },
     "execution_count": 21,
     "metadata": {},
     "output_type": "execute_result"
    }
   ],
   "source": [
    "trainsz,testsz"
   ]
  },
  {
   "cell_type": "code",
   "execution_count": 22,
   "id": "eb5b5790",
   "metadata": {},
   "outputs": [],
   "source": [
    "def create_dataset(dataset, tstep = 1):\n",
    "    dX, dY = [], []\n",
    "    for i in range(len(dataset) - tstep - 1):\n",
    "        v = dataset[i:(i+tstep), 0]\n",
    "        dX.append(v)\n",
    "        dY.append(dataset[i+tstep, 0])\n",
    "    return np.array(dX), np.array(dY)\n",
    "\n",
    "    \n",
    "tstep = 100\n",
    "xtrainer, ytrainer = create_dataset(traindata, tstep)\n",
    "xtester, ytester = create_dataset(testdata, tstep)"
   ]
  },
  {
   "cell_type": "code",
   "execution_count": 23,
   "id": "ecfdaa78",
   "metadata": {},
   "outputs": [
    {
     "name": "stdout",
     "output_type": "stream",
     "text": [
      "(1425, 100, 1)\n",
      "(1425,)\n"
     ]
    },
    {
     "data": {
      "text/plain": [
       "(None, None)"
      ]
     },
     "execution_count": 23,
     "metadata": {},
     "output_type": "execute_result"
    }
   ],
   "source": [
    "xtrainer = xtrainer.reshape(xtrainer.shape[0], xtrainer.shape[1], 1)\n",
    "xtester = xtester.reshape(xtester.shape[0], xtester.shape[1], 1)\n",
    "\n",
    "\n",
    "print(xtrainer.shape), print(ytrainer.shape)"
   ]
  },
  {
   "cell_type": "code",
   "execution_count": 24,
   "id": "335bec90",
   "metadata": {},
   "outputs": [
    {
     "name": "stdout",
     "output_type": "stream",
     "text": [
      "(408, 100, 1)\n",
      "(408,)\n"
     ]
    },
    {
     "data": {
      "text/plain": [
       "(None, None)"
      ]
     },
     "execution_count": 24,
     "metadata": {},
     "output_type": "execute_result"
    }
   ],
   "source": [
    "print(xtester.shape), print(ytester.shape)"
   ]
  },
  {
   "cell_type": "code",
   "execution_count": 25,
   "id": "565eb31b",
   "metadata": {},
   "outputs": [
    {
     "name": "stdout",
     "output_type": "stream",
     "text": [
      "Model: \"sequential\"\n",
      "_________________________________________________________________\n",
      "Layer (type)                 Output Shape              Param #   \n",
      "=================================================================\n",
      "lstm (LSTM)                  (None, 100, 50)           10400     \n",
      "_________________________________________________________________\n",
      "lstm_1 (LSTM)                (None, 100, 50)           20200     \n",
      "_________________________________________________________________\n",
      "lstm_2 (LSTM)                (None, 50)                20200     \n",
      "_________________________________________________________________\n",
      "dense (Dense)                (None, 1)                 51        \n",
      "=================================================================\n",
      "Total params: 50,851\n",
      "Trainable params: 50,851\n",
      "Non-trainable params: 0\n",
      "_________________________________________________________________\n"
     ]
    }
   ],
   "source": [
    "mdl = Sequential()\n",
    "mdl.add(LSTM(50, return_sequences = True, input_shape = (100,1)))\n",
    "mdl.add(LSTM(50, return_sequences = True))\n",
    "mdl.add(LSTM(50))\n",
    "mdl.add(Dense(1))\n",
    "mdl.compile(loss = 'mean_squared_error', optimizer = 'adam')\n",
    "\n",
    "\n",
    "mdl.summary()"
   ]
  },
  {
   "cell_type": "code",
   "execution_count": 26,
   "id": "69fcbb34",
   "metadata": {},
   "outputs": [
    {
     "name": "stdout",
     "output_type": "stream",
     "text": [
      "Epoch 1/100\n",
      "23/23 [==============================] - 33s 635ms/step - loss: 0.0123 - val_loss: 0.0580\n",
      "Epoch 2/100\n",
      "23/23 [==============================] - 12s 536ms/step - loss: 0.0021 - val_loss: 0.0076\n",
      "Epoch 3/100\n",
      "23/23 [==============================] - 11s 502ms/step - loss: 8.5443e-04 - val_loss: 0.0037\n",
      "Epoch 4/100\n",
      "23/23 [==============================] - 12s 546ms/step - loss: 7.7577e-04 - val_loss: 0.0052\n",
      "Epoch 5/100\n",
      "23/23 [==============================] - 12s 531ms/step - loss: 7.5021e-04 - val_loss: 0.0041\n",
      "Epoch 6/100\n",
      "23/23 [==============================] - 13s 552ms/step - loss: 7.0868e-04 - val_loss: 0.0032\n",
      "Epoch 7/100\n",
      "23/23 [==============================] - 12s 528ms/step - loss: 7.0836e-04 - val_loss: 0.0026\n",
      "Epoch 8/100\n",
      "23/23 [==============================] - 11s 499ms/step - loss: 6.7628e-04 - val_loss: 0.0065\n",
      "Epoch 9/100\n",
      "23/23 [==============================] - 12s 513ms/step - loss: 6.9266e-04 - val_loss: 0.0046\n",
      "Epoch 10/100\n",
      "23/23 [==============================] - 13s 555ms/step - loss: 6.1989e-04 - val_loss: 0.0031\n",
      "Epoch 11/100\n",
      "23/23 [==============================] - 13s 557ms/step - loss: 5.9229e-04 - val_loss: 0.0075\n",
      "Epoch 12/100\n",
      "23/23 [==============================] - 12s 533ms/step - loss: 5.6824e-04 - val_loss: 0.0066\n",
      "Epoch 13/100\n",
      "23/23 [==============================] - 12s 529ms/step - loss: 5.4881e-04 - val_loss: 0.0072\n",
      "Epoch 14/100\n",
      "23/23 [==============================] - 13s 552ms/step - loss: 5.4260e-04 - val_loss: 0.0088\n",
      "Epoch 15/100\n",
      "23/23 [==============================] - 12s 523ms/step - loss: 5.3747e-04 - val_loss: 0.0076\n",
      "Epoch 16/100\n",
      "23/23 [==============================] - 13s 549ms/step - loss: 5.1644e-04 - val_loss: 0.0091\n",
      "Epoch 17/100\n",
      "23/23 [==============================] - 11s 473ms/step - loss: 4.8621e-04 - val_loss: 0.0060\n",
      "Epoch 18/100\n",
      "23/23 [==============================] - 12s 524ms/step - loss: 4.7273e-04 - val_loss: 0.0092\n",
      "Epoch 19/100\n",
      "23/23 [==============================] - 13s 566ms/step - loss: 4.5322e-04 - val_loss: 0.0089\n",
      "Epoch 20/100\n",
      "23/23 [==============================] - 12s 528ms/step - loss: 5.3678e-04 - val_loss: 0.0128\n",
      "Epoch 21/100\n",
      "23/23 [==============================] - 12s 530ms/step - loss: 5.6691e-04 - val_loss: 0.0048\n",
      "Epoch 22/100\n",
      "23/23 [==============================] - 13s 569ms/step - loss: 4.5988e-04 - val_loss: 0.0074\n",
      "Epoch 23/100\n",
      "23/23 [==============================] - 13s 563ms/step - loss: 4.2014e-04 - val_loss: 0.0097\n",
      "Epoch 24/100\n",
      "23/23 [==============================] - 12s 492ms/step - loss: 4.1795e-04 - val_loss: 0.0061\n",
      "Epoch 25/100\n",
      "23/23 [==============================] - 13s 554ms/step - loss: 4.0524e-04 - val_loss: 0.0047\n",
      "Epoch 26/100\n",
      "23/23 [==============================] - 11s 488ms/step - loss: 4.0157e-04 - val_loss: 0.0072\n",
      "Epoch 27/100\n",
      "23/23 [==============================] - 12s 531ms/step - loss: 3.7960e-04 - val_loss: 0.0063\n",
      "Epoch 28/100\n",
      "23/23 [==============================] - 12s 539ms/step - loss: 3.8172e-04 - val_loss: 0.0046\n",
      "Epoch 29/100\n",
      "23/23 [==============================] - 12s 519ms/step - loss: 3.8726e-04 - val_loss: 0.0079\n",
      "Epoch 30/100\n",
      "23/23 [==============================] - 12s 525ms/step - loss: 3.7032e-04 - val_loss: 0.0083\n",
      "Epoch 31/100\n",
      "23/23 [==============================] - 12s 536ms/step - loss: 3.4068e-04 - val_loss: 0.0050\n",
      "Epoch 32/100\n",
      "23/23 [==============================] - 12s 527ms/step - loss: 3.3197e-04 - val_loss: 0.0043\n",
      "Epoch 33/100\n",
      "23/23 [==============================] - 13s 542ms/step - loss: 3.1908e-04 - val_loss: 0.0054\n",
      "Epoch 34/100\n",
      "23/23 [==============================] - 13s 554ms/step - loss: 3.0693e-04 - val_loss: 0.0062\n",
      "Epoch 35/100\n",
      "23/23 [==============================] - 12s 546ms/step - loss: 3.1740e-04 - val_loss: 0.0081\n",
      "Epoch 36/100\n",
      "23/23 [==============================] - 12s 523ms/step - loss: 3.1953e-04 - val_loss: 0.0054\n",
      "Epoch 37/100\n",
      "23/23 [==============================] - 12s 527ms/step - loss: 2.8057e-04 - val_loss: 0.0045\n",
      "Epoch 38/100\n",
      "23/23 [==============================] - 12s 512ms/step - loss: 2.7914e-04 - val_loss: 0.0046\n",
      "Epoch 39/100\n",
      "23/23 [==============================] - 13s 548ms/step - loss: 2.7475e-04 - val_loss: 0.0045\n",
      "Epoch 40/100\n",
      "23/23 [==============================] - 13s 550ms/step - loss: 2.6365e-04 - val_loss: 0.0036\n",
      "Epoch 41/100\n",
      "23/23 [==============================] - 12s 540ms/step - loss: 2.4945e-04 - val_loss: 0.0021\n",
      "Epoch 42/100\n",
      "23/23 [==============================] - 12s 510ms/step - loss: 2.7044e-04 - val_loss: 0.0036\n",
      "Epoch 43/100\n",
      "23/23 [==============================] - 12s 510ms/step - loss: 2.3737e-04 - val_loss: 0.0041\n",
      "Epoch 44/100\n",
      "23/23 [==============================] - 12s 521ms/step - loss: 2.4063e-04 - val_loss: 0.0031\n",
      "Epoch 45/100\n",
      "23/23 [==============================] - 12s 537ms/step - loss: 2.2564e-04 - val_loss: 0.0027\n",
      "Epoch 46/100\n",
      "23/23 [==============================] - 12s 522ms/step - loss: 2.6434e-04 - val_loss: 0.0039\n",
      "Epoch 47/100\n",
      "23/23 [==============================] - 12s 498ms/step - loss: 2.1449e-04 - val_loss: 0.0029\n",
      "Epoch 48/100\n",
      "23/23 [==============================] - 11s 460ms/step - loss: 2.1539e-04 - val_loss: 0.0031\n",
      "Epoch 49/100\n",
      "23/23 [==============================] - 11s 503ms/step - loss: 2.0797e-04 - val_loss: 0.0012\n",
      "Epoch 50/100\n",
      "23/23 [==============================] - 11s 495ms/step - loss: 2.4492e-04 - val_loss: 0.0018\n",
      "Epoch 51/100\n",
      "23/23 [==============================] - 13s 546ms/step - loss: 2.0268e-04 - val_loss: 0.0021\n",
      "Epoch 52/100\n",
      "23/23 [==============================] - 13s 563ms/step - loss: 1.8919e-04 - val_loss: 0.0017\n",
      "Epoch 53/100\n",
      "23/23 [==============================] - 13s 556ms/step - loss: 1.8333e-04 - val_loss: 0.0027\n",
      "Epoch 54/100\n",
      "23/23 [==============================] - 11s 479ms/step - loss: 1.8096e-04 - val_loss: 0.0048\n",
      "Epoch 55/100\n",
      "23/23 [==============================] - 12s 507ms/step - loss: 1.8630e-04 - val_loss: 0.0053\n",
      "Epoch 56/100\n",
      "23/23 [==============================] - 11s 465ms/step - loss: 2.0066e-04 - val_loss: 0.0019\n",
      "Epoch 57/100\n",
      "23/23 [==============================] - 11s 496ms/step - loss: 1.7576e-04 - val_loss: 0.0021\n",
      "Epoch 58/100\n",
      "23/23 [==============================] - 12s 529ms/step - loss: 1.6479e-04 - val_loss: 0.0027\n",
      "Epoch 59/100\n",
      "23/23 [==============================] - 12s 543ms/step - loss: 1.5422e-04 - val_loss: 0.0022\n",
      "Epoch 60/100\n",
      "23/23 [==============================] - 12s 506ms/step - loss: 1.5560e-04 - val_loss: 0.0018\n",
      "Epoch 61/100\n",
      "23/23 [==============================] - 13s 568ms/step - loss: 1.5283e-04 - val_loss: 0.0016\n",
      "Epoch 62/100\n",
      "23/23 [==============================] - 12s 507ms/step - loss: 1.5190e-04 - val_loss: 0.0034\n",
      "Epoch 63/100\n",
      "23/23 [==============================] - 12s 527ms/step - loss: 1.5302e-04 - val_loss: 0.0016\n",
      "Epoch 64/100\n",
      "23/23 [==============================] - 12s 522ms/step - loss: 1.4379e-04 - val_loss: 0.0051\n",
      "Epoch 65/100\n",
      "23/23 [==============================] - 11s 485ms/step - loss: 1.5653e-04 - val_loss: 0.0019\n",
      "Epoch 66/100\n",
      "23/23 [==============================] - 12s 509ms/step - loss: 1.3310e-04 - val_loss: 0.0022\n",
      "Epoch 67/100\n",
      "23/23 [==============================] - 12s 520ms/step - loss: 1.3470e-04 - val_loss: 0.0022\n",
      "Epoch 68/100\n",
      "23/23 [==============================] - 12s 530ms/step - loss: 1.3353e-04 - val_loss: 0.0014\n",
      "Epoch 69/100\n",
      "23/23 [==============================] - 11s 453ms/step - loss: 1.3200e-04 - val_loss: 0.0031\n",
      "Epoch 70/100\n",
      "23/23 [==============================] - 10s 438ms/step - loss: 1.2824e-04 - val_loss: 0.0017\n",
      "Epoch 71/100\n",
      "23/23 [==============================] - 12s 499ms/step - loss: 1.2606e-04 - val_loss: 0.0019\n",
      "Epoch 72/100\n",
      "23/23 [==============================] - 12s 528ms/step - loss: 1.1777e-04 - val_loss: 0.0026\n",
      "Epoch 73/100\n",
      "23/23 [==============================] - 12s 536ms/step - loss: 1.2730e-04 - val_loss: 0.0026\n",
      "Epoch 74/100\n",
      "23/23 [==============================] - 12s 542ms/step - loss: 1.2297e-04 - val_loss: 0.0019\n",
      "Epoch 75/100\n",
      "23/23 [==============================] - 12s 537ms/step - loss: 1.2270e-04 - val_loss: 0.0016\n",
      "Epoch 76/100\n",
      "23/23 [==============================] - 11s 497ms/step - loss: 1.1719e-04 - val_loss: 0.0014\n",
      "Epoch 77/100\n"
     ]
    },
    {
     "name": "stdout",
     "output_type": "stream",
     "text": [
      "23/23 [==============================] - 13s 553ms/step - loss: 1.4884e-04 - val_loss: 0.0013\n",
      "Epoch 78/100\n",
      "23/23 [==============================] - 13s 572ms/step - loss: 1.3391e-04 - val_loss: 0.0017\n",
      "Epoch 79/100\n",
      "23/23 [==============================] - 12s 545ms/step - loss: 1.1808e-04 - val_loss: 0.0037\n",
      "Epoch 80/100\n",
      "23/23 [==============================] - 12s 532ms/step - loss: 1.2406e-04 - val_loss: 0.0031\n",
      "Epoch 81/100\n",
      "23/23 [==============================] - 11s 498ms/step - loss: 1.3136e-04 - val_loss: 0.0016\n",
      "Epoch 82/100\n",
      "23/23 [==============================] - 12s 542ms/step - loss: 1.1744e-04 - val_loss: 0.0022\n",
      "Epoch 83/100\n",
      "23/23 [==============================] - 12s 535ms/step - loss: 1.2204e-04 - val_loss: 0.0023\n",
      "Epoch 84/100\n",
      "23/23 [==============================] - 12s 508ms/step - loss: 1.1556e-04 - val_loss: 0.0013\n",
      "Epoch 85/100\n",
      "23/23 [==============================] - 12s 542ms/step - loss: 1.2860e-04 - val_loss: 0.0033\n",
      "Epoch 86/100\n",
      "23/23 [==============================] - 12s 539ms/step - loss: 1.3013e-04 - val_loss: 0.0019\n",
      "Epoch 87/100\n",
      "23/23 [==============================] - 12s 525ms/step - loss: 1.1527e-04 - val_loss: 0.0024\n",
      "Epoch 88/100\n",
      "23/23 [==============================] - 12s 520ms/step - loss: 1.2613e-04 - val_loss: 0.0010\n",
      "Epoch 89/100\n",
      "23/23 [==============================] - 13s 576ms/step - loss: 1.2714e-04 - val_loss: 0.0025\n",
      "Epoch 90/100\n",
      "23/23 [==============================] - 12s 529ms/step - loss: 1.1742e-04 - val_loss: 0.0024\n",
      "Epoch 91/100\n",
      "23/23 [==============================] - 12s 528ms/step - loss: 1.1504e-04 - val_loss: 0.0018\n",
      "Epoch 92/100\n",
      "23/23 [==============================] - 12s 522ms/step - loss: 1.2547e-04 - val_loss: 0.0023\n",
      "Epoch 93/100\n",
      "23/23 [==============================] - 11s 477ms/step - loss: 1.1072e-04 - val_loss: 0.0021\n",
      "Epoch 94/100\n",
      "23/23 [==============================] - 11s 470ms/step - loss: 1.1456e-04 - val_loss: 0.0015\n",
      "Epoch 95/100\n",
      "23/23 [==============================] - 11s 459ms/step - loss: 1.2140e-04 - val_loss: 0.0037\n",
      "Epoch 96/100\n",
      "23/23 [==============================] - 11s 477ms/step - loss: 1.3516e-04 - val_loss: 0.0017\n",
      "Epoch 97/100\n",
      "23/23 [==============================] - 11s 469ms/step - loss: 1.2004e-04 - val_loss: 0.0012\n",
      "Epoch 98/100\n",
      "23/23 [==============================] - 12s 525ms/step - loss: 1.1647e-04 - val_loss: 0.0027\n",
      "Epoch 99/100\n",
      "23/23 [==============================] - 11s 458ms/step - loss: 1.1758e-04 - val_loss: 0.0029\n",
      "Epoch 100/100\n",
      "23/23 [==============================] - 11s 483ms/step - loss: 1.3305e-04 - val_loss: 0.0010\n"
     ]
    },
    {
     "data": {
      "text/plain": [
       "<tensorflow.python.keras.callbacks.History at 0x1e93d135760>"
      ]
     },
     "execution_count": 26,
     "metadata": {},
     "output_type": "execute_result"
    }
   ],
   "source": [
    "mdl.fit(xtrainer, ytrainer, validation_data = (xtester, ytester), epochs = 100, batch_size = 64, verbose = 1)"
   ]
  },
  {
   "cell_type": "code",
   "execution_count": 27,
   "id": "02df7b2b",
   "metadata": {},
   "outputs": [],
   "source": [
    "trpd = mdl.predict(xtrainer)\n",
    "tpd = mdl.predict(xtester)"
   ]
  },
  {
   "cell_type": "code",
   "execution_count": 28,
   "id": "d2eb1d1a",
   "metadata": {},
   "outputs": [],
   "source": [
    "trpd = sclr.inverse_transform(trpd)\n",
    "tpd = sclr.inverse_transform(tpd)"
   ]
  },
  {
   "cell_type": "code",
   "execution_count": 29,
   "id": "5dc743cc",
   "metadata": {},
   "outputs": [
    {
     "data": {
      "text/plain": [
       "137.13175623235708"
      ]
     },
     "execution_count": 29,
     "metadata": {},
     "output_type": "execute_result"
    }
   ],
   "source": [
    "math.sqrt(mean_squared_error(ytrainer, trpd))"
   ]
  },
  {
   "cell_type": "code",
   "execution_count": 30,
   "id": "17da348a",
   "metadata": {},
   "outputs": [
    {
     "data": {
      "text/plain": [
       "228.47381819017272"
      ]
     },
     "execution_count": 30,
     "metadata": {},
     "output_type": "execute_result"
    }
   ],
   "source": [
    "\n",
    "math.sqrt(mean_squared_error(ytester, tpd))"
   ]
  },
  {
   "cell_type": "code",
   "execution_count": 32,
   "id": "6e0b9584",
   "metadata": {},
   "outputs": [
    {
     "data": {
      "image/png": "[encoded data removed]",
      "text/plain": [
       "<Figure size 432x288 with 1 Axes>"
      ]
     },
     "metadata": {
      "needs_background": "light"
     },
     "output_type": "display_data"
    },
    {
     "name": "stdout",
     "output_type": "stream",
     "text": [
      "Green indicates the predicted data\n",
      "Blue indicates the complete data\n",
      "Orange indicates the trained data\n"
     ]
    }
   ],
   "source": [
    "lb = 100\n",
    "trpdPlot = np.empty_like(defn_high)\n",
    "trpdPlot[:,:] = np.nan\n",
    "trpdPlot[lb:len(trpd) + lb, :] = trpd\n",
    "\n",
    "tpdPlot = np.empty_like(defn_high)\n",
    "tpdPlot[:,:] = np.nan\n",
    "tpdPlot[len(trpd) + (lb * 2)+1:len(defn_high) - 1, :] = tpd\n",
    "\n",
    "plt.plot(sclr.inverse_transform(defn_high))\n",
    "plt.plot(trpdPlot)\n",
    "plt.plot(tpdPlot)\n",
    "plt.show()\n",
    "\n",
    "print(\"Green indicates the predicted data\")\n",
    "print(\"Blue indicates the complete data\")\n",
    "print(\"Orange indicates the trained data\")"
   ]
  },
  {
   "cell_type": "code",
   "execution_count": 33,
   "id": "46dcb7d6",
   "metadata": {},
   "outputs": [
    {
     "data": {
      "text/plain": [
       "(509, (408, 100, 1))"
      ]
     },
     "execution_count": 33,
     "metadata": {},
     "output_type": "execute_result"
    }
   ],
   "source": [
    "len(testdata), xtester.shape"
   ]
  },
  {
   "cell_type": "code",
   "execution_count": 34,
   "id": "d7a8a827",
   "metadata": {},
   "outputs": [
    {
     "data": {
      "text/plain": [
       "(1, 100)"
      ]
     },
     "execution_count": 34,
     "metadata": {},
     "output_type": "execute_result"
    }
   ],
   "source": [
    "xinput = testdata[409:].reshape(1,-1)\n",
    "xinput.shape"
   ]
  },
  {
   "cell_type": "code",
   "execution_count": 35,
   "id": "ef4c95b2",
   "metadata": {},
   "outputs": [
    {
     "name": "stdout",
     "output_type": "stream",
     "text": [
      "[0.6156677]\n",
      "101\n",
      "1 day input [0.86013417 0.85464525 0.84448059 0.8072779  0.71843871 0.66192316\n",
      " 0.67696686 0.67554381 0.67310429 0.68428542 0.68936776 0.70217524\n",
      " 0.71803212 0.72941655 0.73144948 0.74486684 0.76926205 0.75991055\n",
      " 0.74242732 0.73958122 0.74771295 0.75991055 0.7584875  0.76621264\n",
      " 0.75462492 0.76316324 0.79670665 0.80585485 0.7889815  0.78003659\n",
      " 0.73978451 0.73002643 0.73490547 0.74872942 0.75991055 0.75462492\n",
      " 0.75401504 0.76174019 0.7737345  0.82008538 0.80585485 0.81154706\n",
      " 0.77434438 0.78633869 0.79284407 0.78328929 0.77109169 0.74385038\n",
      " 0.71193332 0.68733482 0.67818662 0.65257166 0.64301687 0.65643423\n",
      " 0.67656028 0.67371417 0.65114861 0.65521447 0.66761537 0.67838992\n",
      " 0.69993901 0.63122586 0.63508843 0.64098394 0.64545639 0.64118723\n",
      " 0.63854442 0.63081927 0.62472047 0.6330555  0.64728603 0.6574507\n",
      " 0.66761537 0.66720878 0.64159382 0.62776987 0.63651149 0.63630819\n",
      " 0.62980281 0.62817646 0.63813783 0.65358813 0.63183574 0.57653995\n",
      " 0.57816629 0.57613336 0.61943484 0.57979264 0.57288067 0.62573694\n",
      " 0.63102257 0.6361049  0.62776987 0.6269567  0.63590161 0.62594023\n",
      " 0.6391543  0.62614353 0.62268754 0.6156677 ]\n",
      "1 day output [[0.6017967]]\n",
      "2 day input [0.85464525 0.84448059 0.8072779  0.71843871 0.66192316 0.67696686\n",
      " 0.67554381 0.67310429 0.68428542 0.68936776 0.70217524 0.71803212\n",
      " 0.72941655 0.73144948 0.74486684 0.76926205 0.75991055 0.74242732\n",
      " 0.73958122 0.74771295 0.75991055 0.7584875  0.76621264 0.75462492\n",
      " 0.76316324 0.79670665 0.80585485 0.7889815  0.78003659 0.73978451\n",
      " 0.73002643 0.73490547 0.74872942 0.75991055 0.75462492 0.75401504\n",
      " 0.76174019 0.7737345  0.82008538 0.80585485 0.81154706 0.77434438\n",
      " 0.78633869 0.79284407 0.78328929 0.77109169 0.74385038 0.71193332\n",
      " 0.68733482 0.67818662 0.65257166 0.64301687 0.65643423 0.67656028\n",
      " 0.67371417 0.65114861 0.65521447 0.66761537 0.67838992 0.69993901\n",
      " 0.63122586 0.63508843 0.64098394 0.64545639 0.64118723 0.63854442\n",
      " 0.63081927 0.62472047 0.6330555  0.64728603 0.6574507  0.66761537\n",
      " 0.66720878 0.64159382 0.62776987 0.63651149 0.63630819 0.62980281\n",
      " 0.62817646 0.63813783 0.65358813 0.63183574 0.57653995 0.57816629\n",
      " 0.57613336 0.61943484 0.57979264 0.57288067 0.62573694 0.63102257\n",
      " 0.6361049  0.62776987 0.6269567  0.63590161 0.62594023 0.6391543\n",
      " 0.62614353 0.62268754 0.6156677  0.60179669]\n",
      "2 day output [[0.5873731]]\n",
      "3 day input [0.84448059 0.8072779  0.71843871 0.66192316 0.67696686 0.67554381\n",
      " 0.67310429 0.68428542 0.68936776 0.70217524 0.71803212 0.72941655\n",
      " 0.73144948 0.74486684 0.76926205 0.75991055 0.74242732 0.73958122\n",
      " 0.74771295 0.75991055 0.7584875  0.76621264 0.75462492 0.76316324\n",
      " 0.79670665 0.80585485 0.7889815  0.78003659 0.73978451 0.73002643\n",
      " 0.73490547 0.74872942 0.75991055 0.75462492 0.75401504 0.76174019\n",
      " 0.7737345  0.82008538 0.80585485 0.81154706 0.77434438 0.78633869\n",
      " 0.79284407 0.78328929 0.77109169 0.74385038 0.71193332 0.68733482\n",
      " 0.67818662 0.65257166 0.64301687 0.65643423 0.67656028 0.67371417\n",
      " 0.65114861 0.65521447 0.66761537 0.67838992 0.69993901 0.63122586\n",
      " 0.63508843 0.64098394 0.64545639 0.64118723 0.63854442 0.63081927\n",
      " 0.62472047 0.6330555  0.64728603 0.6574507  0.66761537 0.66720878\n",
      " 0.64159382 0.62776987 0.63651149 0.63630819 0.62980281 0.62817646\n",
      " 0.63813783 0.65358813 0.63183574 0.57653995 0.57816629 0.57613336\n",
      " 0.61943484 0.57979264 0.57288067 0.62573694 0.63102257 0.6361049\n",
      " 0.62776987 0.6269567  0.63590161 0.62594023 0.6391543  0.62614353\n",
      " 0.62268754 0.6156677  0.60179669 0.58737308]\n",
      "3 day output [[0.5756455]]\n",
      "4 day input [0.8072779  0.71843871 0.66192316 0.67696686 0.67554381 0.67310429\n",
      " 0.68428542 0.68936776 0.70217524 0.71803212 0.72941655 0.73144948\n",
      " 0.74486684 0.76926205 0.75991055 0.74242732 0.73958122 0.74771295\n",
      " 0.75991055 0.7584875  0.76621264 0.75462492 0.76316324 0.79670665\n",
      " 0.80585485 0.7889815  0.78003659 0.73978451 0.73002643 0.73490547\n",
      " 0.74872942 0.75991055 0.75462492 0.75401504 0.76174019 0.7737345\n",
      " 0.82008538 0.80585485 0.81154706 0.77434438 0.78633869 0.79284407\n",
      " 0.78328929 0.77109169 0.74385038 0.71193332 0.68733482 0.67818662\n",
      " 0.65257166 0.64301687 0.65643423 0.67656028 0.67371417 0.65114861\n",
      " 0.65521447 0.66761537 0.67838992 0.69993901 0.63122586 0.63508843\n",
      " 0.64098394 0.64545639 0.64118723 0.63854442 0.63081927 0.62472047\n",
      " 0.6330555  0.64728603 0.6574507  0.66761537 0.66720878 0.64159382\n",
      " 0.62776987 0.63651149 0.63630819 0.62980281 0.62817646 0.63813783\n",
      " 0.65358813 0.63183574 0.57653995 0.57816629 0.57613336 0.61943484\n",
      " 0.57979264 0.57288067 0.62573694 0.63102257 0.6361049  0.62776987\n",
      " 0.6269567  0.63590161 0.62594023 0.6391543  0.62614353 0.62268754\n",
      " 0.6156677  0.60179669 0.58737308 0.57564551]\n",
      "4 day output [[0.5671772]]\n",
      "5 day input [0.71843871 0.66192316 0.67696686 0.67554381 0.67310429 0.68428542\n",
      " 0.68936776 0.70217524 0.71803212 0.72941655 0.73144948 0.74486684\n",
      " 0.76926205 0.75991055 0.74242732 0.73958122 0.74771295 0.75991055\n",
      " 0.7584875  0.76621264 0.75462492 0.76316324 0.79670665 0.80585485\n",
      " 0.7889815  0.78003659 0.73978451 0.73002643 0.73490547 0.74872942\n",
      " 0.75991055 0.75462492 0.75401504 0.76174019 0.7737345  0.82008538\n",
      " 0.80585485 0.81154706 0.77434438 0.78633869 0.79284407 0.78328929\n",
      " 0.77109169 0.74385038 0.71193332 0.68733482 0.67818662 0.65257166\n",
      " 0.64301687 0.65643423 0.67656028 0.67371417 0.65114861 0.65521447\n",
      " 0.66761537 0.67838992 0.69993901 0.63122586 0.63508843 0.64098394\n",
      " 0.64545639 0.64118723 0.63854442 0.63081927 0.62472047 0.6330555\n",
      " 0.64728603 0.6574507  0.66761537 0.66720878 0.64159382 0.62776987\n",
      " 0.63651149 0.63630819 0.62980281 0.62817646 0.63813783 0.65358813\n",
      " 0.63183574 0.57653995 0.57816629 0.57613336 0.61943484 0.57979264\n",
      " 0.57288067 0.62573694 0.63102257 0.6361049  0.62776987 0.6269567\n",
      " 0.63590161 0.62594023 0.6391543  0.62614353 0.62268754 0.6156677\n",
      " 0.60179669 0.58737308 0.57564551 0.56717718]\n",
      "5 day output [[0.56121546]]\n",
      "6 day input [0.66192316 0.67696686 0.67554381 0.67310429 0.68428542 0.68936776\n",
      " 0.70217524 0.71803212 0.72941655 0.73144948 0.74486684 0.76926205\n",
      " 0.75991055 0.74242732 0.73958122 0.74771295 0.75991055 0.7584875\n",
      " 0.76621264 0.75462492 0.76316324 0.79670665 0.80585485 0.7889815\n",
      " 0.78003659 0.73978451 0.73002643 0.73490547 0.74872942 0.75991055\n",
      " 0.75462492 0.75401504 0.76174019 0.7737345  0.82008538 0.80585485\n",
      " 0.81154706 0.77434438 0.78633869 0.79284407 0.78328929 0.77109169\n",
      " 0.74385038 0.71193332 0.68733482 0.67818662 0.65257166 0.64301687\n",
      " 0.65643423 0.67656028 0.67371417 0.65114861 0.65521447 0.66761537\n",
      " 0.67838992 0.69993901 0.63122586 0.63508843 0.64098394 0.64545639\n",
      " 0.64118723 0.63854442 0.63081927 0.62472047 0.6330555  0.64728603\n",
      " 0.6574507  0.66761537 0.66720878 0.64159382 0.62776987 0.63651149\n",
      " 0.63630819 0.62980281 0.62817646 0.63813783 0.65358813 0.63183574\n",
      " 0.57653995 0.57816629 0.57613336 0.61943484 0.57979264 0.57288067\n",
      " 0.62573694 0.63102257 0.6361049  0.62776987 0.6269567  0.63590161\n",
      " 0.62594023 0.6391543  0.62614353 0.62268754 0.6156677  0.60179669\n",
      " 0.58737308 0.57564551 0.56717718 0.56121546]\n",
      "6 day output [[0.55702055]]\n",
      "7 day input [0.67696686 0.67554381 0.67310429 0.68428542 0.68936776 0.70217524\n",
      " 0.71803212 0.72941655 0.73144948 0.74486684 0.76926205 0.75991055\n",
      " 0.74242732 0.73958122 0.74771295 0.75991055 0.7584875  0.76621264\n",
      " 0.75462492 0.76316324 0.79670665 0.80585485 0.7889815  0.78003659\n",
      " 0.73978451 0.73002643 0.73490547 0.74872942 0.75991055 0.75462492\n",
      " 0.75401504 0.76174019 0.7737345  0.82008538 0.80585485 0.81154706\n",
      " 0.77434438 0.78633869 0.79284407 0.78328929 0.77109169 0.74385038\n",
      " 0.71193332 0.68733482 0.67818662 0.65257166 0.64301687 0.65643423\n",
      " 0.67656028 0.67371417 0.65114861 0.65521447 0.66761537 0.67838992\n",
      " 0.69993901 0.63122586 0.63508843 0.64098394 0.64545639 0.64118723\n",
      " 0.63854442 0.63081927 0.62472047 0.6330555  0.64728603 0.6574507\n",
      " 0.66761537 0.66720878 0.64159382 0.62776987 0.63651149 0.63630819\n",
      " 0.62980281 0.62817646 0.63813783 0.65358813 0.63183574 0.57653995\n",
      " 0.57816629 0.57613336 0.61943484 0.57979264 0.57288067 0.62573694\n",
      " 0.63102257 0.6361049  0.62776987 0.6269567  0.63590161 0.62594023\n",
      " 0.6391543  0.62614353 0.62268754 0.6156677  0.60179669 0.58737308\n",
      " 0.57564551 0.56717718 0.56121546 0.55702055]\n",
      "7 day output [[0.5540823]]\n",
      "8 day input [0.67554381 0.67310429 0.68428542 0.68936776 0.70217524 0.71803212\n",
      " 0.72941655 0.73144948 0.74486684 0.76926205 0.75991055 0.74242732\n",
      " 0.73958122 0.74771295 0.75991055 0.7584875  0.76621264 0.75462492\n",
      " 0.76316324 0.79670665 0.80585485 0.7889815  0.78003659 0.73978451\n",
      " 0.73002643 0.73490547 0.74872942 0.75991055 0.75462492 0.75401504\n",
      " 0.76174019 0.7737345  0.82008538 0.80585485 0.81154706 0.77434438\n",
      " 0.78633869 0.79284407 0.78328929 0.77109169 0.74385038 0.71193332\n",
      " 0.68733482 0.67818662 0.65257166 0.64301687 0.65643423 0.67656028\n",
      " 0.67371417 0.65114861 0.65521447 0.66761537 0.67838992 0.69993901\n",
      " 0.63122586 0.63508843 0.64098394 0.64545639 0.64118723 0.63854442\n",
      " 0.63081927 0.62472047 0.6330555  0.64728603 0.6574507  0.66761537\n",
      " 0.66720878 0.64159382 0.62776987 0.63651149 0.63630819 0.62980281\n",
      " 0.62817646 0.63813783 0.65358813 0.63183574 0.57653995 0.57816629\n",
      " 0.57613336 0.61943484 0.57979264 0.57288067 0.62573694 0.63102257\n",
      " 0.6361049  0.62776987 0.6269567  0.63590161 0.62594023 0.6391543\n",
      " 0.62614353 0.62268754 0.6156677  0.60179669 0.58737308 0.57564551\n",
      " 0.56717718 0.56121546 0.55702055 0.55408227]\n"
     ]
    },
    {
     "name": "stdout",
     "output_type": "stream",
     "text": [
      "8 day output [[0.55203927]]\n",
      "9 day input [0.67310429 0.68428542 0.68936776 0.70217524 0.71803212 0.72941655\n",
      " 0.73144948 0.74486684 0.76926205 0.75991055 0.74242732 0.73958122\n",
      " 0.74771295 0.75991055 0.7584875  0.76621264 0.75462492 0.76316324\n",
      " 0.79670665 0.80585485 0.7889815  0.78003659 0.73978451 0.73002643\n",
      " 0.73490547 0.74872942 0.75991055 0.75462492 0.75401504 0.76174019\n",
      " 0.7737345  0.82008538 0.80585485 0.81154706 0.77434438 0.78633869\n",
      " 0.79284407 0.78328929 0.77109169 0.74385038 0.71193332 0.68733482\n",
      " 0.67818662 0.65257166 0.64301687 0.65643423 0.67656028 0.67371417\n",
      " 0.65114861 0.65521447 0.66761537 0.67838992 0.69993901 0.63122586\n",
      " 0.63508843 0.64098394 0.64545639 0.64118723 0.63854442 0.63081927\n",
      " 0.62472047 0.6330555  0.64728603 0.6574507  0.66761537 0.66720878\n",
      " 0.64159382 0.62776987 0.63651149 0.63630819 0.62980281 0.62817646\n",
      " 0.63813783 0.65358813 0.63183574 0.57653995 0.57816629 0.57613336\n",
      " 0.61943484 0.57979264 0.57288067 0.62573694 0.63102257 0.6361049\n",
      " 0.62776987 0.6269567  0.63590161 0.62594023 0.6391543  0.62614353\n",
      " 0.62268754 0.6156677  0.60179669 0.58737308 0.57564551 0.56717718\n",
      " 0.56121546 0.55702055 0.55408227 0.55203927]\n",
      "9 day output [[0.5506001]]\n",
      "10 day input [0.68428542 0.68936776 0.70217524 0.71803212 0.72941655 0.73144948\n",
      " 0.74486684 0.76926205 0.75991055 0.74242732 0.73958122 0.74771295\n",
      " 0.75991055 0.7584875  0.76621264 0.75462492 0.76316324 0.79670665\n",
      " 0.80585485 0.7889815  0.78003659 0.73978451 0.73002643 0.73490547\n",
      " 0.74872942 0.75991055 0.75462492 0.75401504 0.76174019 0.7737345\n",
      " 0.82008538 0.80585485 0.81154706 0.77434438 0.78633869 0.79284407\n",
      " 0.78328929 0.77109169 0.74385038 0.71193332 0.68733482 0.67818662\n",
      " 0.65257166 0.64301687 0.65643423 0.67656028 0.67371417 0.65114861\n",
      " 0.65521447 0.66761537 0.67838992 0.69993901 0.63122586 0.63508843\n",
      " 0.64098394 0.64545639 0.64118723 0.63854442 0.63081927 0.62472047\n",
      " 0.6330555  0.64728603 0.6574507  0.66761537 0.66720878 0.64159382\n",
      " 0.62776987 0.63651149 0.63630819 0.62980281 0.62817646 0.63813783\n",
      " 0.65358813 0.63183574 0.57653995 0.57816629 0.57613336 0.61943484\n",
      " 0.57979264 0.57288067 0.62573694 0.63102257 0.6361049  0.62776987\n",
      " 0.6269567  0.63590161 0.62594023 0.6391543  0.62614353 0.62268754\n",
      " 0.6156677  0.60179669 0.58737308 0.57564551 0.56717718 0.56121546\n",
      " 0.55702055 0.55408227 0.55203927 0.55060011]\n",
      "10 day output [[0.549518]]\n",
      "11 day input [0.68936776 0.70217524 0.71803212 0.72941655 0.73144948 0.74486684\n",
      " 0.76926205 0.75991055 0.74242732 0.73958122 0.74771295 0.75991055\n",
      " 0.7584875  0.76621264 0.75462492 0.76316324 0.79670665 0.80585485\n",
      " 0.7889815  0.78003659 0.73978451 0.73002643 0.73490547 0.74872942\n",
      " 0.75991055 0.75462492 0.75401504 0.76174019 0.7737345  0.82008538\n",
      " 0.80585485 0.81154706 0.77434438 0.78633869 0.79284407 0.78328929\n",
      " 0.77109169 0.74385038 0.71193332 0.68733482 0.67818662 0.65257166\n",
      " 0.64301687 0.65643423 0.67656028 0.67371417 0.65114861 0.65521447\n",
      " 0.66761537 0.67838992 0.69993901 0.63122586 0.63508843 0.64098394\n",
      " 0.64545639 0.64118723 0.63854442 0.63081927 0.62472047 0.6330555\n",
      " 0.64728603 0.6574507  0.66761537 0.66720878 0.64159382 0.62776987\n",
      " 0.63651149 0.63630819 0.62980281 0.62817646 0.63813783 0.65358813\n",
      " 0.63183574 0.57653995 0.57816629 0.57613336 0.61943484 0.57979264\n",
      " 0.57288067 0.62573694 0.63102257 0.6361049  0.62776987 0.6269567\n",
      " 0.63590161 0.62594023 0.6391543  0.62614353 0.62268754 0.6156677\n",
      " 0.60179669 0.58737308 0.57564551 0.56717718 0.56121546 0.55702055\n",
      " 0.55408227 0.55203927 0.55060011 0.54951799]\n",
      "11 day output [[0.5485934]]\n",
      "12 day input [0.70217524 0.71803212 0.72941655 0.73144948 0.74486684 0.76926205\n",
      " 0.75991055 0.74242732 0.73958122 0.74771295 0.75991055 0.7584875\n",
      " 0.76621264 0.75462492 0.76316324 0.79670665 0.80585485 0.7889815\n",
      " 0.78003659 0.73978451 0.73002643 0.73490547 0.74872942 0.75991055\n",
      " 0.75462492 0.75401504 0.76174019 0.7737345  0.82008538 0.80585485\n",
      " 0.81154706 0.77434438 0.78633869 0.79284407 0.78328929 0.77109169\n",
      " 0.74385038 0.71193332 0.68733482 0.67818662 0.65257166 0.64301687\n",
      " 0.65643423 0.67656028 0.67371417 0.65114861 0.65521447 0.66761537\n",
      " 0.67838992 0.69993901 0.63122586 0.63508843 0.64098394 0.64545639\n",
      " 0.64118723 0.63854442 0.63081927 0.62472047 0.6330555  0.64728603\n",
      " 0.6574507  0.66761537 0.66720878 0.64159382 0.62776987 0.63651149\n",
      " 0.63630819 0.62980281 0.62817646 0.63813783 0.65358813 0.63183574\n",
      " 0.57653995 0.57816629 0.57613336 0.61943484 0.57979264 0.57288067\n",
      " 0.62573694 0.63102257 0.6361049  0.62776987 0.6269567  0.63590161\n",
      " 0.62594023 0.6391543  0.62614353 0.62268754 0.6156677  0.60179669\n",
      " 0.58737308 0.57564551 0.56717718 0.56121546 0.55702055 0.55408227\n",
      " 0.55203927 0.55060011 0.54951799 0.5485934 ]\n",
      "12 day output [[0.54768026]]\n",
      "13 day input [0.71803212 0.72941655 0.73144948 0.74486684 0.76926205 0.75991055\n",
      " 0.74242732 0.73958122 0.74771295 0.75991055 0.7584875  0.76621264\n",
      " 0.75462492 0.76316324 0.79670665 0.80585485 0.7889815  0.78003659\n",
      " 0.73978451 0.73002643 0.73490547 0.74872942 0.75991055 0.75462492\n",
      " 0.75401504 0.76174019 0.7737345  0.82008538 0.80585485 0.81154706\n",
      " 0.77434438 0.78633869 0.79284407 0.78328929 0.77109169 0.74385038\n",
      " 0.71193332 0.68733482 0.67818662 0.65257166 0.64301687 0.65643423\n",
      " 0.67656028 0.67371417 0.65114861 0.65521447 0.66761537 0.67838992\n",
      " 0.69993901 0.63122586 0.63508843 0.64098394 0.64545639 0.64118723\n",
      " 0.63854442 0.63081927 0.62472047 0.6330555  0.64728603 0.6574507\n",
      " 0.66761537 0.66720878 0.64159382 0.62776987 0.63651149 0.63630819\n",
      " 0.62980281 0.62817646 0.63813783 0.65358813 0.63183574 0.57653995\n",
      " 0.57816629 0.57613336 0.61943484 0.57979264 0.57288067 0.62573694\n",
      " 0.63102257 0.6361049  0.62776987 0.6269567  0.63590161 0.62594023\n",
      " 0.6391543  0.62614353 0.62268754 0.6156677  0.60179669 0.58737308\n",
      " 0.57564551 0.56717718 0.56121546 0.55702055 0.55408227 0.55203927\n",
      " 0.55060011 0.54951799 0.5485934  0.54768026]\n",
      "13 day output [[0.5466859]]\n",
      "14 day input [0.72941655 0.73144948 0.74486684 0.76926205 0.75991055 0.74242732\n",
      " 0.73958122 0.74771295 0.75991055 0.7584875  0.76621264 0.75462492\n",
      " 0.76316324 0.79670665 0.80585485 0.7889815  0.78003659 0.73978451\n",
      " 0.73002643 0.73490547 0.74872942 0.75991055 0.75462492 0.75401504\n",
      " 0.76174019 0.7737345  0.82008538 0.80585485 0.81154706 0.77434438\n",
      " 0.78633869 0.79284407 0.78328929 0.77109169 0.74385038 0.71193332\n",
      " 0.68733482 0.67818662 0.65257166 0.64301687 0.65643423 0.67656028\n",
      " 0.67371417 0.65114861 0.65521447 0.66761537 0.67838992 0.69993901\n",
      " 0.63122586 0.63508843 0.64098394 0.64545639 0.64118723 0.63854442\n",
      " 0.63081927 0.62472047 0.6330555  0.64728603 0.6574507  0.66761537\n",
      " 0.66720878 0.64159382 0.62776987 0.63651149 0.63630819 0.62980281\n",
      " 0.62817646 0.63813783 0.65358813 0.63183574 0.57653995 0.57816629\n",
      " 0.57613336 0.61943484 0.57979264 0.57288067 0.62573694 0.63102257\n",
      " 0.6361049  0.62776987 0.6269567  0.63590161 0.62594023 0.6391543\n",
      " 0.62614353 0.62268754 0.6156677  0.60179669 0.58737308 0.57564551\n",
      " 0.56717718 0.56121546 0.55702055 0.55408227 0.55203927 0.55060011\n",
      " 0.54951799 0.5485934  0.54768026 0.54668587]\n",
      "14 day output [[0.5455662]]\n",
      "15 day input [0.73144948 0.74486684 0.76926205 0.75991055 0.74242732 0.73958122\n",
      " 0.74771295 0.75991055 0.7584875  0.76621264 0.75462492 0.76316324\n",
      " 0.79670665 0.80585485 0.7889815  0.78003659 0.73978451 0.73002643\n",
      " 0.73490547 0.74872942 0.75991055 0.75462492 0.75401504 0.76174019\n",
      " 0.7737345  0.82008538 0.80585485 0.81154706 0.77434438 0.78633869\n",
      " 0.79284407 0.78328929 0.77109169 0.74385038 0.71193332 0.68733482\n",
      " 0.67818662 0.65257166 0.64301687 0.65643423 0.67656028 0.67371417\n",
      " 0.65114861 0.65521447 0.66761537 0.67838992 0.69993901 0.63122586\n",
      " 0.63508843 0.64098394 0.64545639 0.64118723 0.63854442 0.63081927\n",
      " 0.62472047 0.6330555  0.64728603 0.6574507  0.66761537 0.66720878\n",
      " 0.64159382 0.62776987 0.63651149 0.63630819 0.62980281 0.62817646\n",
      " 0.63813783 0.65358813 0.63183574 0.57653995 0.57816629 0.57613336\n",
      " 0.61943484 0.57979264 0.57288067 0.62573694 0.63102257 0.6361049\n",
      " 0.62776987 0.6269567  0.63590161 0.62594023 0.6391543  0.62614353\n",
      " 0.62268754 0.6156677  0.60179669 0.58737308 0.57564551 0.56717718\n",
      " 0.56121546 0.55702055 0.55408227 0.55203927 0.55060011 0.54951799\n",
      " 0.5485934  0.54768026 0.54668587 0.5455662 ]\n",
      "15 day output [[0.54431605]]\n",
      "16 day input [0.74486684 0.76926205 0.75991055 0.74242732 0.73958122 0.74771295\n",
      " 0.75991055 0.7584875  0.76621264 0.75462492 0.76316324 0.79670665\n",
      " 0.80585485 0.7889815  0.78003659 0.73978451 0.73002643 0.73490547\n",
      " 0.74872942 0.75991055 0.75462492 0.75401504 0.76174019 0.7737345\n",
      " 0.82008538 0.80585485 0.81154706 0.77434438 0.78633869 0.79284407\n",
      " 0.78328929 0.77109169 0.74385038 0.71193332 0.68733482 0.67818662\n",
      " 0.65257166 0.64301687 0.65643423 0.67656028 0.67371417 0.65114861\n",
      " 0.65521447 0.66761537 0.67838992 0.69993901 0.63122586 0.63508843\n",
      " 0.64098394 0.64545639 0.64118723 0.63854442 0.63081927 0.62472047\n",
      " 0.6330555  0.64728603 0.6574507  0.66761537 0.66720878 0.64159382\n",
      " 0.62776987 0.63651149 0.63630819 0.62980281 0.62817646 0.63813783\n",
      " 0.65358813 0.63183574 0.57653995 0.57816629 0.57613336 0.61943484\n",
      " 0.57979264 0.57288067 0.62573694 0.63102257 0.6361049  0.62776987\n",
      " 0.6269567  0.63590161 0.62594023 0.6391543  0.62614353 0.62268754\n",
      " 0.6156677  0.60179669 0.58737308 0.57564551 0.56717718 0.56121546\n",
      " 0.55702055 0.55408227 0.55203927 0.55060011 0.54951799 0.5485934\n",
      " 0.54768026 0.54668587 0.5455662  0.54431605]\n"
     ]
    },
    {
     "name": "stdout",
     "output_type": "stream",
     "text": [
      "16 day output [[0.5429579]]\n",
      "17 day input [0.76926205 0.75991055 0.74242732 0.73958122 0.74771295 0.75991055\n",
      " 0.7584875  0.76621264 0.75462492 0.76316324 0.79670665 0.80585485\n",
      " 0.7889815  0.78003659 0.73978451 0.73002643 0.73490547 0.74872942\n",
      " 0.75991055 0.75462492 0.75401504 0.76174019 0.7737345  0.82008538\n",
      " 0.80585485 0.81154706 0.77434438 0.78633869 0.79284407 0.78328929\n",
      " 0.77109169 0.74385038 0.71193332 0.68733482 0.67818662 0.65257166\n",
      " 0.64301687 0.65643423 0.67656028 0.67371417 0.65114861 0.65521447\n",
      " 0.66761537 0.67838992 0.69993901 0.63122586 0.63508843 0.64098394\n",
      " 0.64545639 0.64118723 0.63854442 0.63081927 0.62472047 0.6330555\n",
      " 0.64728603 0.6574507  0.66761537 0.66720878 0.64159382 0.62776987\n",
      " 0.63651149 0.63630819 0.62980281 0.62817646 0.63813783 0.65358813\n",
      " 0.63183574 0.57653995 0.57816629 0.57613336 0.61943484 0.57979264\n",
      " 0.57288067 0.62573694 0.63102257 0.6361049  0.62776987 0.6269567\n",
      " 0.63590161 0.62594023 0.6391543  0.62614353 0.62268754 0.6156677\n",
      " 0.60179669 0.58737308 0.57564551 0.56717718 0.56121546 0.55702055\n",
      " 0.55408227 0.55203927 0.55060011 0.54951799 0.5485934  0.54768026\n",
      " 0.54668587 0.5455662  0.54431605 0.5429579 ]\n",
      "17 day output [[0.54153043]]\n",
      "18 day input [0.75991055 0.74242732 0.73958122 0.74771295 0.75991055 0.7584875\n",
      " 0.76621264 0.75462492 0.76316324 0.79670665 0.80585485 0.7889815\n",
      " 0.78003659 0.73978451 0.73002643 0.73490547 0.74872942 0.75991055\n",
      " 0.75462492 0.75401504 0.76174019 0.7737345  0.82008538 0.80585485\n",
      " 0.81154706 0.77434438 0.78633869 0.79284407 0.78328929 0.77109169\n",
      " 0.74385038 0.71193332 0.68733482 0.67818662 0.65257166 0.64301687\n",
      " 0.65643423 0.67656028 0.67371417 0.65114861 0.65521447 0.66761537\n",
      " 0.67838992 0.69993901 0.63122586 0.63508843 0.64098394 0.64545639\n",
      " 0.64118723 0.63854442 0.63081927 0.62472047 0.6330555  0.64728603\n",
      " 0.6574507  0.66761537 0.66720878 0.64159382 0.62776987 0.63651149\n",
      " 0.63630819 0.62980281 0.62817646 0.63813783 0.65358813 0.63183574\n",
      " 0.57653995 0.57816629 0.57613336 0.61943484 0.57979264 0.57288067\n",
      " 0.62573694 0.63102257 0.6361049  0.62776987 0.6269567  0.63590161\n",
      " 0.62594023 0.6391543  0.62614353 0.62268754 0.6156677  0.60179669\n",
      " 0.58737308 0.57564551 0.56717718 0.56121546 0.55702055 0.55408227\n",
      " 0.55203927 0.55060011 0.54951799 0.5485934  0.54768026 0.54668587\n",
      " 0.5455662  0.54431605 0.5429579  0.54153043]\n",
      "18 day output [[0.5400796]]\n",
      "19 day input [0.74242732 0.73958122 0.74771295 0.75991055 0.7584875  0.76621264\n",
      " 0.75462492 0.76316324 0.79670665 0.80585485 0.7889815  0.78003659\n",
      " 0.73978451 0.73002643 0.73490547 0.74872942 0.75991055 0.75462492\n",
      " 0.75401504 0.76174019 0.7737345  0.82008538 0.80585485 0.81154706\n",
      " 0.77434438 0.78633869 0.79284407 0.78328929 0.77109169 0.74385038\n",
      " 0.71193332 0.68733482 0.67818662 0.65257166 0.64301687 0.65643423\n",
      " 0.67656028 0.67371417 0.65114861 0.65521447 0.66761537 0.67838992\n",
      " 0.69993901 0.63122586 0.63508843 0.64098394 0.64545639 0.64118723\n",
      " 0.63854442 0.63081927 0.62472047 0.6330555  0.64728603 0.6574507\n",
      " 0.66761537 0.66720878 0.64159382 0.62776987 0.63651149 0.63630819\n",
      " 0.62980281 0.62817646 0.63813783 0.65358813 0.63183574 0.57653995\n",
      " 0.57816629 0.57613336 0.61943484 0.57979264 0.57288067 0.62573694\n",
      " 0.63102257 0.6361049  0.62776987 0.6269567  0.63590161 0.62594023\n",
      " 0.6391543  0.62614353 0.62268754 0.6156677  0.60179669 0.58737308\n",
      " 0.57564551 0.56717718 0.56121546 0.55702055 0.55408227 0.55203927\n",
      " 0.55060011 0.54951799 0.5485934  0.54768026 0.54668587 0.5455662\n",
      " 0.54431605 0.5429579  0.54153043 0.54007959]\n",
      "19 day output [[0.5386498]]\n",
      "20 day input [0.73958122 0.74771295 0.75991055 0.7584875  0.76621264 0.75462492\n",
      " 0.76316324 0.79670665 0.80585485 0.7889815  0.78003659 0.73978451\n",
      " 0.73002643 0.73490547 0.74872942 0.75991055 0.75462492 0.75401504\n",
      " 0.76174019 0.7737345  0.82008538 0.80585485 0.81154706 0.77434438\n",
      " 0.78633869 0.79284407 0.78328929 0.77109169 0.74385038 0.71193332\n",
      " 0.68733482 0.67818662 0.65257166 0.64301687 0.65643423 0.67656028\n",
      " 0.67371417 0.65114861 0.65521447 0.66761537 0.67838992 0.69993901\n",
      " 0.63122586 0.63508843 0.64098394 0.64545639 0.64118723 0.63854442\n",
      " 0.63081927 0.62472047 0.6330555  0.64728603 0.6574507  0.66761537\n",
      " 0.66720878 0.64159382 0.62776987 0.63651149 0.63630819 0.62980281\n",
      " 0.62817646 0.63813783 0.65358813 0.63183574 0.57653995 0.57816629\n",
      " 0.57613336 0.61943484 0.57979264 0.57288067 0.62573694 0.63102257\n",
      " 0.6361049  0.62776987 0.6269567  0.63590161 0.62594023 0.6391543\n",
      " 0.62614353 0.62268754 0.6156677  0.60179669 0.58737308 0.57564551\n",
      " 0.56717718 0.56121546 0.55702055 0.55408227 0.55203927 0.55060011\n",
      " 0.54951799 0.5485934  0.54768026 0.54668587 0.5455662  0.54431605\n",
      " 0.5429579  0.54153043 0.54007959 0.5386498 ]\n",
      "20 day output [[0.5372793]]\n",
      "21 day input [0.74771295 0.75991055 0.7584875  0.76621264 0.75462492 0.76316324\n",
      " 0.79670665 0.80585485 0.7889815  0.78003659 0.73978451 0.73002643\n",
      " 0.73490547 0.74872942 0.75991055 0.75462492 0.75401504 0.76174019\n",
      " 0.7737345  0.82008538 0.80585485 0.81154706 0.77434438 0.78633869\n",
      " 0.79284407 0.78328929 0.77109169 0.74385038 0.71193332 0.68733482\n",
      " 0.67818662 0.65257166 0.64301687 0.65643423 0.67656028 0.67371417\n",
      " 0.65114861 0.65521447 0.66761537 0.67838992 0.69993901 0.63122586\n",
      " 0.63508843 0.64098394 0.64545639 0.64118723 0.63854442 0.63081927\n",
      " 0.62472047 0.6330555  0.64728603 0.6574507  0.66761537 0.66720878\n",
      " 0.64159382 0.62776987 0.63651149 0.63630819 0.62980281 0.62817646\n",
      " 0.63813783 0.65358813 0.63183574 0.57653995 0.57816629 0.57613336\n",
      " 0.61943484 0.57979264 0.57288067 0.62573694 0.63102257 0.6361049\n",
      " 0.62776987 0.6269567  0.63590161 0.62594023 0.6391543  0.62614353\n",
      " 0.62268754 0.6156677  0.60179669 0.58737308 0.57564551 0.56717718\n",
      " 0.56121546 0.55702055 0.55408227 0.55203927 0.55060011 0.54951799\n",
      " 0.5485934  0.54768026 0.54668587 0.5455662  0.54431605 0.5429579\n",
      " 0.54153043 0.54007959 0.5386498  0.53727931]\n",
      "21 day output [[0.53599685]]\n",
      "22 day input [0.75991055 0.7584875  0.76621264 0.75462492 0.76316324 0.79670665\n",
      " 0.80585485 0.7889815  0.78003659 0.73978451 0.73002643 0.73490547\n",
      " 0.74872942 0.75991055 0.75462492 0.75401504 0.76174019 0.7737345\n",
      " 0.82008538 0.80585485 0.81154706 0.77434438 0.78633869 0.79284407\n",
      " 0.78328929 0.77109169 0.74385038 0.71193332 0.68733482 0.67818662\n",
      " 0.65257166 0.64301687 0.65643423 0.67656028 0.67371417 0.65114861\n",
      " 0.65521447 0.66761537 0.67838992 0.69993901 0.63122586 0.63508843\n",
      " 0.64098394 0.64545639 0.64118723 0.63854442 0.63081927 0.62472047\n",
      " 0.6330555  0.64728603 0.6574507  0.66761537 0.66720878 0.64159382\n",
      " 0.62776987 0.63651149 0.63630819 0.62980281 0.62817646 0.63813783\n",
      " 0.65358813 0.63183574 0.57653995 0.57816629 0.57613336 0.61943484\n",
      " 0.57979264 0.57288067 0.62573694 0.63102257 0.6361049  0.62776987\n",
      " 0.6269567  0.63590161 0.62594023 0.6391543  0.62614353 0.62268754\n",
      " 0.6156677  0.60179669 0.58737308 0.57564551 0.56717718 0.56121546\n",
      " 0.55702055 0.55408227 0.55203927 0.55060011 0.54951799 0.5485934\n",
      " 0.54768026 0.54668587 0.5455662  0.54431605 0.5429579  0.54153043\n",
      " 0.54007959 0.5386498  0.53727931 0.53599685]\n",
      "22 day output [[0.53482103]]\n",
      "23 day input [0.7584875  0.76621264 0.75462492 0.76316324 0.79670665 0.80585485\n",
      " 0.7889815  0.78003659 0.73978451 0.73002643 0.73490547 0.74872942\n",
      " 0.75991055 0.75462492 0.75401504 0.76174019 0.7737345  0.82008538\n",
      " 0.80585485 0.81154706 0.77434438 0.78633869 0.79284407 0.78328929\n",
      " 0.77109169 0.74385038 0.71193332 0.68733482 0.67818662 0.65257166\n",
      " 0.64301687 0.65643423 0.67656028 0.67371417 0.65114861 0.65521447\n",
      " 0.66761537 0.67838992 0.69993901 0.63122586 0.63508843 0.64098394\n",
      " 0.64545639 0.64118723 0.63854442 0.63081927 0.62472047 0.6330555\n",
      " 0.64728603 0.6574507  0.66761537 0.66720878 0.64159382 0.62776987\n",
      " 0.63651149 0.63630819 0.62980281 0.62817646 0.63813783 0.65358813\n",
      " 0.63183574 0.57653995 0.57816629 0.57613336 0.61943484 0.57979264\n",
      " 0.57288067 0.62573694 0.63102257 0.6361049  0.62776987 0.6269567\n",
      " 0.63590161 0.62594023 0.6391543  0.62614353 0.62268754 0.6156677\n",
      " 0.60179669 0.58737308 0.57564551 0.56717718 0.56121546 0.55702055\n",
      " 0.55408227 0.55203927 0.55060011 0.54951799 0.5485934  0.54768026\n",
      " 0.54668587 0.5455662  0.54431605 0.5429579  0.54153043 0.54007959\n",
      " 0.5386498  0.53727931 0.53599685 0.53482103]\n",
      "23 day output [[0.53376013]]\n",
      "24 day input [0.76621264 0.75462492 0.76316324 0.79670665 0.80585485 0.7889815\n",
      " 0.78003659 0.73978451 0.73002643 0.73490547 0.74872942 0.75991055\n",
      " 0.75462492 0.75401504 0.76174019 0.7737345  0.82008538 0.80585485\n",
      " 0.81154706 0.77434438 0.78633869 0.79284407 0.78328929 0.77109169\n",
      " 0.74385038 0.71193332 0.68733482 0.67818662 0.65257166 0.64301687\n",
      " 0.65643423 0.67656028 0.67371417 0.65114861 0.65521447 0.66761537\n",
      " 0.67838992 0.69993901 0.63122586 0.63508843 0.64098394 0.64545639\n",
      " 0.64118723 0.63854442 0.63081927 0.62472047 0.6330555  0.64728603\n",
      " 0.6574507  0.66761537 0.66720878 0.64159382 0.62776987 0.63651149\n",
      " 0.63630819 0.62980281 0.62817646 0.63813783 0.65358813 0.63183574\n",
      " 0.57653995 0.57816629 0.57613336 0.61943484 0.57979264 0.57288067\n",
      " 0.62573694 0.63102257 0.6361049  0.62776987 0.6269567  0.63590161\n",
      " 0.62594023 0.6391543  0.62614353 0.62268754 0.6156677  0.60179669\n",
      " 0.58737308 0.57564551 0.56717718 0.56121546 0.55702055 0.55408227\n",
      " 0.55203927 0.55060011 0.54951799 0.5485934  0.54768026 0.54668587\n",
      " 0.5455662  0.54431605 0.5429579  0.54153043 0.54007959 0.5386498\n",
      " 0.53727931 0.53599685 0.53482103 0.53376013]\n",
      "24 day output [[0.5328139]]\n",
      "25 day input [0.75462492 0.76316324 0.79670665 0.80585485 0.7889815  0.78003659\n",
      " 0.73978451 0.73002643 0.73490547 0.74872942 0.75991055 0.75462492\n",
      " 0.75401504 0.76174019 0.7737345  0.82008538 0.80585485 0.81154706\n",
      " 0.77434438 0.78633869 0.79284407 0.78328929 0.77109169 0.74385038\n",
      " 0.71193332 0.68733482 0.67818662 0.65257166 0.64301687 0.65643423\n",
      " 0.67656028 0.67371417 0.65114861 0.65521447 0.66761537 0.67838992\n",
      " 0.69993901 0.63122586 0.63508843 0.64098394 0.64545639 0.64118723\n",
      " 0.63854442 0.63081927 0.62472047 0.6330555  0.64728603 0.6574507\n",
      " 0.66761537 0.66720878 0.64159382 0.62776987 0.63651149 0.63630819\n",
      " 0.62980281 0.62817646 0.63813783 0.65358813 0.63183574 0.57653995\n",
      " 0.57816629 0.57613336 0.61943484 0.57979264 0.57288067 0.62573694\n",
      " 0.63102257 0.6361049  0.62776987 0.6269567  0.63590161 0.62594023\n",
      " 0.6391543  0.62614353 0.62268754 0.6156677  0.60179669 0.58737308\n",
      " 0.57564551 0.56717718 0.56121546 0.55702055 0.55408227 0.55203927\n",
      " 0.55060011 0.54951799 0.5485934  0.54768026 0.54668587 0.5455662\n",
      " 0.54431605 0.5429579  0.54153043 0.54007959 0.5386498  0.53727931\n",
      " 0.53599685 0.53482103 0.53376013 0.53281391]\n"
     ]
    },
    {
     "name": "stdout",
     "output_type": "stream",
     "text": [
      "25 day output [[0.5319753]]\n",
      "26 day input [0.76316324 0.79670665 0.80585485 0.7889815  0.78003659 0.73978451\n",
      " 0.73002643 0.73490547 0.74872942 0.75991055 0.75462492 0.75401504\n",
      " 0.76174019 0.7737345  0.82008538 0.80585485 0.81154706 0.77434438\n",
      " 0.78633869 0.79284407 0.78328929 0.77109169 0.74385038 0.71193332\n",
      " 0.68733482 0.67818662 0.65257166 0.64301687 0.65643423 0.67656028\n",
      " 0.67371417 0.65114861 0.65521447 0.66761537 0.67838992 0.69993901\n",
      " 0.63122586 0.63508843 0.64098394 0.64545639 0.64118723 0.63854442\n",
      " 0.63081927 0.62472047 0.6330555  0.64728603 0.6574507  0.66761537\n",
      " 0.66720878 0.64159382 0.62776987 0.63651149 0.63630819 0.62980281\n",
      " 0.62817646 0.63813783 0.65358813 0.63183574 0.57653995 0.57816629\n",
      " 0.57613336 0.61943484 0.57979264 0.57288067 0.62573694 0.63102257\n",
      " 0.6361049  0.62776987 0.6269567  0.63590161 0.62594023 0.6391543\n",
      " 0.62614353 0.62268754 0.6156677  0.60179669 0.58737308 0.57564551\n",
      " 0.56717718 0.56121546 0.55702055 0.55408227 0.55203927 0.55060011\n",
      " 0.54951799 0.5485934  0.54768026 0.54668587 0.5455662  0.54431605\n",
      " 0.5429579  0.54153043 0.54007959 0.5386498  0.53727931 0.53599685\n",
      " 0.53482103 0.53376013 0.53281391 0.53197533]\n",
      "26 day output [[0.5312328]]\n",
      "27 day input [0.79670665 0.80585485 0.7889815  0.78003659 0.73978451 0.73002643\n",
      " 0.73490547 0.74872942 0.75991055 0.75462492 0.75401504 0.76174019\n",
      " 0.7737345  0.82008538 0.80585485 0.81154706 0.77434438 0.78633869\n",
      " 0.79284407 0.78328929 0.77109169 0.74385038 0.71193332 0.68733482\n",
      " 0.67818662 0.65257166 0.64301687 0.65643423 0.67656028 0.67371417\n",
      " 0.65114861 0.65521447 0.66761537 0.67838992 0.69993901 0.63122586\n",
      " 0.63508843 0.64098394 0.64545639 0.64118723 0.63854442 0.63081927\n",
      " 0.62472047 0.6330555  0.64728603 0.6574507  0.66761537 0.66720878\n",
      " 0.64159382 0.62776987 0.63651149 0.63630819 0.62980281 0.62817646\n",
      " 0.63813783 0.65358813 0.63183574 0.57653995 0.57816629 0.57613336\n",
      " 0.61943484 0.57979264 0.57288067 0.62573694 0.63102257 0.6361049\n",
      " 0.62776987 0.6269567  0.63590161 0.62594023 0.6391543  0.62614353\n",
      " 0.62268754 0.6156677  0.60179669 0.58737308 0.57564551 0.56717718\n",
      " 0.56121546 0.55702055 0.55408227 0.55203927 0.55060011 0.54951799\n",
      " 0.5485934  0.54768026 0.54668587 0.5455662  0.54431605 0.5429579\n",
      " 0.54153043 0.54007959 0.5386498  0.53727931 0.53599685 0.53482103\n",
      " 0.53376013 0.53281391 0.53197533 0.53123277]\n",
      "27 day output [[0.53057283]]\n",
      "[[0.6156677007675171], [0.6017966866493225], [0.5873730778694153], [0.5756455063819885], [0.5671771764755249], [0.5612154603004456], [0.5570205450057983], [0.5540822744369507], [0.5520392656326294], [0.5506001114845276], [0.5495179891586304], [0.5485934019088745], [0.5476802587509155], [0.5466858744621277], [0.545566201210022], [0.5443160533905029], [0.5429579019546509], [0.541530430316925], [0.5400795936584473], [0.5386497974395752], [0.5372793078422546], [0.5359968543052673], [0.5348210334777832], [0.533760130405426], [0.5328139066696167], [0.5319753289222717], [0.5312327742576599], [0.5305728316307068]]\n"
     ]
    }
   ],
   "source": [
    "tmpinput = list(xinput)\n",
    "temp_input = tmpinput[0].tolist()\n",
    "\n",
    "lstoutput=[]\n",
    "nossteps=100\n",
    "nextNumberOfDays = 28\n",
    "i=0\n",
    "\n",
    "while(i<nextNumberOfDays):\n",
    "    \n",
    "    if(len(temp_input)>100):\n",
    "        xinput=np.array(temp_input[1:])\n",
    "        print(\"{} day input {}\".format(i,xinput))\n",
    "        xinput=xinput.reshape(1,-1)\n",
    "        xinput = xinput.reshape((1, nossteps, 1))\n",
    "        yhat = mdl.predict(xinput, verbose=0)\n",
    "        print(\"{} day output {}\".format(i,yhat))\n",
    "        temp_input.extend(yhat[0].tolist())\n",
    "        temp_input=temp_input[1:]\n",
    "        lstoutput.extend(yhat.tolist())\n",
    "        i=i+1\n",
    "    else:\n",
    "        xinput = xinput.reshape((1, nossteps,1))\n",
    "        yhat = mdl.predict(xinput, verbose=0)\n",
    "        print(yhat[0])\n",
    "        temp_input.extend(yhat[0].tolist())\n",
    "        print(len(temp_input))\n",
    "        lstoutput.extend(yhat.tolist())\n",
    "        i=i+1\n",
    "    \n",
    "\n",
    "print(lstoutput)"
   ]
  },
  {
   "cell_type": "code",
   "execution_count": 36,
   "id": "059538df",
   "metadata": {},
   "outputs": [],
   "source": [
    "dnew = np.arange(1,101)\n",
    "dpred = np.arange(101,129)"
   ]
  },
  {
   "cell_type": "code",
   "execution_count": 37,
   "id": "0b1003a8",
   "metadata": {},
   "outputs": [
    {
     "data": {
      "text/plain": [
       "(100,)"
      ]
     },
     "execution_count": 37,
     "metadata": {},
     "output_type": "execute_result"
    }
   ],
   "source": [
    "dnew.shape"
   ]
  },
  {
   "cell_type": "code",
   "execution_count": 38,
   "id": "833045a9",
   "metadata": {},
   "outputs": [
    {
     "data": {
      "text/plain": [
       "(28,)"
      ]
     },
     "execution_count": 38,
     "metadata": {},
     "output_type": "execute_result"
    }
   ],
   "source": [
    "dpred.shape"
   ]
  },
  {
   "cell_type": "code",
   "execution_count": 39,
   "id": "0553a14d",
   "metadata": {},
   "outputs": [
    {
     "data": {
      "text/plain": [
       "2035"
      ]
     },
     "execution_count": 39,
     "metadata": {},
     "output_type": "execute_result"
    }
   ],
   "source": [
    "defn3 = defn_high.tolist()\n",
    "defn3.extend(lstoutput)\n",
    "\n",
    "len(defn_high)"
   ]
  },
  {
   "cell_type": "code",
   "execution_count": 40,
   "id": "9f78fc8a",
   "metadata": {},
   "outputs": [
    {
     "data": {
      "text/plain": [
       "[<matplotlib.lines.Line2D at 0x1e95625b370>]"
      ]
     },
     "execution_count": 40,
     "metadata": {},
     "output_type": "execute_result"
    },
    {
     "data": {
      "image/png": "[encoded data removed]",
      "text/plain": [
       "<Figure size 432x288 with 1 Axes>"
      ]
     },
     "metadata": {
      "needs_background": "light"
     },
     "output_type": "display_data"
    }
   ],
   "source": [
    "plt.plot(dnew, sclr.inverse_transform(defn_high[1935:]))\n",
    "plt.plot(dpred, sclr.inverse_transform(lstoutput))"
   ]
  },
  {
   "cell_type": "code",
   "execution_count": 41,
   "id": "51ce8d1e",
   "metadata": {},
   "outputs": [
    {
     "data": {
      "text/plain": [
       "[<matplotlib.lines.Line2D at 0x1e95628d7f0>]"
      ]
     },
     "execution_count": 41,
     "metadata": {},
     "output_type": "execute_result"
    },
    {
     "data": {
      "image/png": "[encoded data removed]",
      "text/plain": [
       "<Figure size 432x288 with 1 Axes>"
      ]
     },
     "metadata": {
      "needs_background": "light"
     },
     "output_type": "display_data"
    }
   ],
   "source": [
    "defn3=defn_high.tolist()\n",
    "defn3.extend(lstoutput)\n",
    "plt.plot(defn3[2000:])"
   ]
  },
  {
   "cell_type": "code",
   "execution_count": 42,
   "id": "d151b348",
   "metadata": {},
   "outputs": [],
   "source": [
    "defn3=sclr.inverse_transform(defn3).tolist()"
   ]
  },
  {
   "cell_type": "code",
   "execution_count": 43,
   "id": "53d21912",
   "metadata": {},
   "outputs": [
    {
     "data": {
      "text/plain": [
       "[<matplotlib.lines.Line2D at 0x1e9562a5940>]"
      ]
     },
     "execution_count": 43,
     "metadata": {},
     "output_type": "execute_result"
    },
    {
     "data": {
      "image/png": "[encoded data removed]",
      "text/plain": [
       "<Figure size 432x288 with 1 Axes>"
      ]
     },
     "metadata": {
      "needs_background": "light"
     },
     "output_type": "display_data"
    }
   ],
   "source": [
    "plt.plot(defn3)"
   ]
  },
  {
   "cell_type": "markdown",
   "id": "148978c4",
   "metadata": {},
   "source": [
    "CONCLUSION\n",
    "\n",
    "We have successfully completed a project on stock market prediction and forecasting using stacked LSTM."
   ]
  }
 ],
 "metadata": {
  "kernelspec": {
   "display_name": "Python 3 (ipykernel)",
   "language": "python",
   "name": "python3"
  },
  "language_info": {
   "codemirror_mode": {
    "name": "ipython",
    "version": 3
   },
   "file_extension": ".py",
   "mimetype": "text/x-python",
   "name": "python",
   "nbconvert_exporter": "python",
   "pygments_lexer": "ipython3",
   "version": "3.9.7"
  }
 },
 "nbformat": 4,
 "nbformat_minor": 5
}
